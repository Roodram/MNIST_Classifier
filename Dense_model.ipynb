{
 "cells": [
  {
   "cell_type": "code",
   "execution_count": 2,
   "metadata": {},
   "outputs": [],
   "source": [
    "import keras\n",
    "from keras.datasets import mnist\n",
    "from keras.models import Model\n",
    "from keras.layers import Dense, Flatten, Input, Activation, BatchNormalization\n",
    "from keras.utils import to_categorical\n",
    "import numpy as np\n",
    "from keras.models import load_model\n",
    "import matplotlib.pyplot as plt"
   ]
  },
  {
   "cell_type": "code",
   "execution_count": 3,
   "metadata": {},
   "outputs": [
    {
     "name": "stdout",
     "output_type": "stream",
     "text": [
      "Downloading data from https://s3.amazonaws.com/img-datasets/mnist.npz\n",
      "11493376/11490434 [==============================] - 8s 1us/step\n"
     ]
    }
   ],
   "source": [
    "(x_train, y_train), (x_test, y_test) = mnist.load_data()"
   ]
  },
  {
   "cell_type": "code",
   "execution_count": 4,
   "metadata": {},
   "outputs": [],
   "source": [
    "x_train = x_train.reshape((x_train.shape[0], 28, 28, 1))\n",
    "x_test = x_test.reshape((x_test.shape[0], 28, 28, 1))"
   ]
  },
  {
   "cell_type": "code",
   "execution_count": 5,
   "metadata": {},
   "outputs": [],
   "source": [
    "y_train = to_categorical(y_train)\n",
    "y_test = to_categorical(y_test)"
   ]
  },
  {
   "cell_type": "code",
   "execution_count": 6,
   "metadata": {},
   "outputs": [
    {
     "name": "stdout",
     "output_type": "stream",
     "text": [
      "x_train's shape = (60000, 28, 28, 1)\n",
      "x_test's shape = (10000, 28, 28, 1)\n",
      "y_train's shape = (60000, 10)\n",
      "y_test's shape = (10000, 10)\n"
     ]
    }
   ],
   "source": [
    "print(\"x_train's shape = \" + str(x_train.shape))\n",
    "print(\"x_test's shape = \" + str(x_test.shape))\n",
    "print(\"y_train's shape = \" + str(y_train.shape))\n",
    "print(\"y_test's shape = \" + str(y_test.shape))"
   ]
  },
  {
   "cell_type": "code",
   "execution_count": 7,
   "metadata": {},
   "outputs": [
    {
     "data": {
      "image/png": "[encoded data removed]",
      "text/plain": [
       "<Figure size 432x288 with 1 Axes>"
      ]
     },
     "metadata": {
      "needs_background": "light"
     },
     "output_type": "display_data"
    }
   ],
   "source": [
    "plt.imshow(x_train[0,:,:,0], cmap=\"gray\")\n",
    "plt.show()"
   ]
  },
  {
   "cell_type": "code",
   "execution_count": 8,
   "metadata": {},
   "outputs": [],
   "source": [
    "def Dense_Model():\n",
    "    inputs = Input((28,28,1, ))\n",
    "    \n",
    "    X = Flatten()(inputs)\n",
    "    X = Dense(128, activation=\"tanh\")(X)\n",
    "    X = Dense(32, activation=\"tanh\")(X)\n",
    "    X = Dense(10, activation=\"softmax\")(X)\n",
    "    \n",
    "    model = Model(inputs=inputs, outputs=X)\n",
    "    return model"
   ]
  },
  {
   "cell_type": "code",
   "execution_count": 9,
   "metadata": {},
   "outputs": [
    {
     "name": "stdout",
     "output_type": "stream",
     "text": [
      "_________________________________________________________________\n",
      "Layer (type)                 Output Shape              Param #   \n",
      "=================================================================\n",
      "input_1 (InputLayer)         (None, 28, 28, 1)         0         \n",
      "_________________________________________________________________\n",
      "flatten_1 (Flatten)          (None, 784)               0         \n",
      "_________________________________________________________________\n",
      "dense_1 (Dense)              (None, 128)               100480    \n",
      "_________________________________________________________________\n",
      "dense_2 (Dense)              (None, 32)                4128      \n",
      "_________________________________________________________________\n",
      "dense_3 (Dense)              (None, 10)                330       \n",
      "=================================================================\n",
      "Total params: 104,938\n",
      "Trainable params: 104,938\n",
      "Non-trainable params: 0\n",
      "_________________________________________________________________\n"
     ]
    }
   ],
   "source": [
    "model = Dense_Model()\n",
    "model.summary()"
   ]
  },
  {
   "cell_type": "code",
   "execution_count": 10,
   "metadata": {},
   "outputs": [],
   "source": [
    "model.compile(loss='categorical_crossentropy', optimizer='adam', metrics=['accuracy'])"
   ]
  },
  {
   "cell_type": "code",
   "execution_count": 11,
   "metadata": {},
   "outputs": [
    {
     "name": "stdout",
     "output_type": "stream",
     "text": [
      "Train on 60000 samples, validate on 10000 samples\n",
      "Epoch 1/15\n",
      "60000/60000 [==============================] - 15s 244us/step - loss: 0.6302 - acc: 0.8022 - val_loss: 0.5094 - val_acc: 0.8400\n",
      "Epoch 2/15\n",
      "60000/60000 [==============================] - 14s 229us/step - loss: 0.4559 - acc: 0.8548 - val_loss: 0.4336 - val_acc: 0.8611\n",
      "Epoch 3/15\n",
      "60000/60000 [==============================] - 13s 225us/step - loss: 0.4092 - acc: 0.8715 - val_loss: 0.3722 - val_acc: 0.8855\n",
      "Epoch 4/15\n",
      "60000/60000 [==============================] - 13s 224us/step - loss: 0.3689 - acc: 0.8839 - val_loss: 0.3452 - val_acc: 0.8928\n",
      "Epoch 5/15\n",
      "60000/60000 [==============================] - 13s 224us/step - loss: 0.3510 - acc: 0.8915 - val_loss: 0.3266 - val_acc: 0.8965\n",
      "Epoch 6/15\n",
      "60000/60000 [==============================] - 13s 224us/step - loss: 0.3419 - acc: 0.8936 - val_loss: 0.3188 - val_acc: 0.8985\n",
      "Epoch 7/15\n",
      "60000/60000 [==============================] - 14s 226us/step - loss: 0.3153 - acc: 0.9030 - val_loss: 0.3029 - val_acc: 0.9073\n",
      "Epoch 8/15\n",
      "60000/60000 [==============================] - 14s 225us/step - loss: 0.3038 - acc: 0.9067 - val_loss: 0.2788 - val_acc: 0.9138\n",
      "Epoch 9/15\n",
      "60000/60000 [==============================] - 13s 224us/step - loss: 0.2812 - acc: 0.9130 - val_loss: 0.2665 - val_acc: 0.9182\n",
      "Epoch 10/15\n",
      "60000/60000 [==============================] - 14s 230us/step - loss: 0.2685 - acc: 0.9154 - val_loss: 0.2722 - val_acc: 0.9170\n",
      "Epoch 11/15\n",
      "60000/60000 [==============================] - 13s 224us/step - loss: 0.2728 - acc: 0.9154 - val_loss: 0.2718 - val_acc: 0.9135\n",
      "Epoch 12/15\n",
      "60000/60000 [==============================] - 14s 226us/step - loss: 0.2661 - acc: 0.9164 - val_loss: 0.2522 - val_acc: 0.9214\n",
      "Epoch 13/15\n",
      "60000/60000 [==============================] - 14s 228us/step - loss: 0.2702 - acc: 0.9166 - val_loss: 0.2613 - val_acc: 0.9221\n",
      "Epoch 14/15\n",
      "60000/60000 [==============================] - 14s 226us/step - loss: 0.2605 - acc: 0.9203 - val_loss: 0.2472 - val_acc: 0.9244\n",
      "Epoch 15/15\n",
      "60000/60000 [==============================] - 13s 224us/step - loss: 0.2495 - acc: 0.9239 - val_loss: 0.2575 - val_acc: 0.9219\n"
     ]
    }
   ],
   "source": [
    "history = model.fit(x_train, y_train, validation_data=(x_test, y_test), batch_size=20, epochs=15, verbose=1, callbacks=[keras.callbacks.History()])"
   ]
  },
  {
   "cell_type": "code",
   "execution_count": 12,
   "metadata": {},
   "outputs": [
    {
     "data": {
      "image/png": "[encoded data removed]",
      "text/plain": [
       "<Figure size 432x288 with 1 Axes>"
      ]
     },
     "metadata": {
      "needs_background": "light"
     },
     "output_type": "display_data"
    }
   ],
   "source": [
    "plt.plot(history.history['acc'])\n",
    "plt.plot(history.history['val_acc'])\n",
    "plt.title('model accuracy')\n",
    "plt.ylabel('accuracy')\n",
    "plt.xlabel('epoch')\n",
    "plt.legend(['train', 'test'], loc='upper left')\n",
    "plt.show()"
   ]
  },
  {
   "cell_type": "code",
   "execution_count": 13,
   "metadata": {},
   "outputs": [
    {
     "data": {
      "image/png": "[encoded data removed]",
      "text/plain": [
       "<Figure size 432x288 with 1 Axes>"
      ]
     },
     "metadata": {
      "needs_background": "light"
     },
     "output_type": "display_data"
    }
   ],
   "source": [
    "plt.plot(history.history['loss'])\n",
    "plt.plot(history.history['val_loss'])\n",
    "plt.title('model loss')\n",
    "plt.ylabel('loss')\n",
    "plt.xlabel('epoch')\n",
    "plt.legend(['train', 'test'], loc='upper left')\n",
    "plt.show()"
   ]
  },
  {
   "cell_type": "code",
   "execution_count": 14,
   "metadata": {},
   "outputs": [],
   "source": [
    "model.save(\"Models/Dense_Model.h5\")"
   ]
  },
  {
   "cell_type": "code",
   "execution_count": null,
   "metadata": {},
   "outputs": [],
   "source": []
  }
 ],
 "metadata": {
  "kernelspec": {
   "display_name": "Python 3",
   "language": "python",
   "name": "python3"
  },
  "language_info": {
   "codemirror_mode": {
    "name": "ipython",
    "version": 3
   },
   "file_extension": ".py",
   "mimetype": "text/x-python",
   "name": "python",
   "nbconvert_exporter": "python",
   "pygments_lexer": "ipython3",
   "version": "3.6.7"
  }
 },
 "nbformat": 4,
 "nbformat_minor": 2
}
